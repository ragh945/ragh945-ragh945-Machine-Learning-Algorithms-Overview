{
 "cells": [
  {
   "cell_type": "markdown",
   "id": "3342c42d-f07a-4b46-8923-2f52199f9d66",
   "metadata": {},
   "source": [
    "# K-Nearest Neighbors (KNN)\n",
    "- The K-Nearest Neighbors (KNN) algorithm classifies a data point or predicts its value by analyzing the ‘K’ closest data points in the feature space. For classification, it assigns the most common class among the nearest neighbors. For regression, it predicts the average value of the nearest neighbors. KNN is based on the principle that similar data points are likely to have similar outcomes. It does not require explicit training but instead relies on distance metrics to make predictions."
   ]
  },
  {
   "cell_type": "markdown",
   "id": "31221a68-a647-4ebe-8f79-9a5db8c49ffd",
   "metadata": {},
   "source": [
    "# **Overview of KNN Algorithm**\r\n",
    "\r\n",
    "<style>\r\n",
    "    .table th, .table td {\r\n",
    "        font-size: 18px;\r\n",
    "        text-align: center;\r\n",
    "    }\r\n",
    "</style>\r\n",
    "\r\n",
    "| **Attribute**          | **Details**                               |\r\n",
    "|------------------------|-------------------------------------------|\r\n",
    "| **Type**               | Supervised Machine Learning              |\r\n",
    "| **Problem**            | Classification and Regression             |\r\n",
    "| **Mathematics**        | Distances                                 |\r\n",
    "| **Another Name**       | Lazy Learner                              |\r\n",
    "| **Model Complexity**   | O(n * d)                                  |\r\n",
    "|                        | where n = Number of data points          |\r\n",
    "|                        | d = Number of dimensions/columns         |\r\n",
    "\r\n",
    "d)nces."
   ]
  },
  {
   "cell_type": "markdown",
   "id": "629a50a9-f00f-41c5-9e85-2da8f30926bf",
   "metadata": {},
   "source": [
    "## Mathematical Equation : KNN Mathematical Equation in Latex code"
   ]
  },
  {
   "cell_type": "markdown",
   "id": "bf4881fd-6336-4672-9197-e1b421a9cb60",
   "metadata": {},
   "source": [
    "$ \\huge \n",
    "\\text{argmin}_{d_i \\in \\{d_1, d_2, \\ldots, d_n\\}} \\{d_1, d_2, \\ldots, d_n\\}\n",
    " $\n"
   ]
  },
  {
   "cell_type": "markdown",
   "id": "ed0da5f9-b847-4068-913d-ac70b4451da7",
   "metadata": {},
   "source": [
    "## How k-Nearest Neighbors (KNN) Works ?\n",
    "There are four steps involved to implement KNN.\n",
    "\n",
    "● Step 1: Define the K-value\n",
    "\n",
    "Where K = Number of neighbors\n",
    "\n",
    "● Step 2 : Find all the distances from test point or Query point to the training data.\n",
    "\n",
    "● Step 3 : Sort all the distances in ascending order.\n",
    "\n",
    "● Step 4 : Based on K value\n",
    "\n",
    "If the problem is Classification Apply the majority voting ( Mode).\n",
    "\n",
    "If the Problem is Regression Apply the mean on the data points."
   ]
  },
  {
   "cell_type": "markdown",
   "id": "c6873da4-e3e6-48f4-8c3c-6453c59be923",
   "metadata": {},
   "source": [
    "# Types of Distances\n",
    "In the K-Nearest Neighbors (KNN) algorithm, several distance metrics can be used to measure the similarity between data points. Here are some common types of distances\n",
    "\n",
    "## 1 . Euclidean Distance:\n",
    "The most common distance metric, measuring the straight-line distance between two points in Euclidean space"
   ]
  },
  {
   "cell_type": "markdown",
   "id": "ad2935c3-351b-471d-81f9-fd5b94abb418",
   "metadata": {},
   "source": [
    "## Formula\n",
    "$ \\huge \n",
    "d(x, x_i) = \\sqrt{\\sum_{j=1}^{n} (x_j - x_{i,j})^2}\n",
    "$"
   ]
  },
  {
   "cell_type": "markdown",
   "id": "309c1eb1-8510-4446-852d-0544423a2438",
   "metadata": {},
   "source": [
    "## 2. Manhattan Distance (L1 Norm):\n",
    "Measures the distance between two points by summing the absolute differences of their coordinates. Also known as “city block” distance."
   ]
  },
  {
   "cell_type": "markdown",
   "id": "cfa14576-31b0-45db-8ca9-40e2f1b29d70",
   "metadata": {},
   "source": [
    "## Formula\n",
    "$ \\huge d(x, x_i) = \\sum_{j=1}^{n\n",
    "} |x_j - x_{i,j}| $"
   ]
  },
  {
   "cell_type": "markdown",
   "id": "012013b3-c398-4959-96f5-3e4d2ed846ec",
   "metadata": {},
   "source": [
    "## 3. Minkowski Distance:\n",
    "A generalization of both Euclidean and Manhattan distances, where ppp is a parameter that defines the distance type. For p=2, it becomes Euclidean distance, and for p=1, it becomes Manhattan distance."
   ]
  },
  {
   "cell_type": "markdown",
   "id": "ba5529f1-00a6-4cd9-9244-5ded97c8d3a7",
   "metadata": {},
   "source": [
    "## Formula\n",
    "$ \\huge d(x,xi) = \\left( \\sum_{j=1}^{n} |x_j - x_{i,j}|^p \\right)^{1/p} $"
   ]
  },
  {
   "cell_type": "markdown",
   "id": "cf33066b-f40d-4b3e-958f-731839a40c2f",
   "metadata": {},
   "source": [
    "## 4. Cosine Similarity:\n",
    "Measures the cosine of the angle between two vectors, focusing on the orientation rather than the magnitude. Often used in text classification and clustering.\n",
    "\n",
    "- **When to Use**: Use cosine similarity when you care about the direction rather than the magnitude of the vectors, such as in text similarity where word frequencies matter but document lengths may vary significantly.\n",
    "\n"
   ]
  },
  {
   "cell_type": "markdown",
   "id": "b58e5ba6-aad1-4f08-98c4-88f470195a0e",
   "metadata": {},
   "source": [
    "## Formula\n",
    "$ \\huge \\text{Cosine similarity}(x, x_i) = \\frac{x \\cdot x_i}{\\|x\\| \\|x_i\\|}​​ $"
   ]
  },
  {
   "cell_type": "markdown",
   "id": "b1212afc-0522-418f-a51d-4d50aa688b92",
   "metadata": {},
   "source": [
    "## 5. Hamming Distance:\n",
    "Used for categorical variables, it counts the number of positions at which the corresponding elements are different."
   ]
  },
  {
   "cell_type": "markdown",
   "id": "93db2242-a3cc-49a8-9da6-521b4a1b718f",
   "metadata": {},
   "source": [
    "## Formula\n",
    " $ \\huge d(x, x_i) = \\sum_{j=1}^{n} \\text{1 if } x_j \\neq x_{i,j} \\text{ else } 0 $\n"
   ]
  },
  {
   "cell_type": "markdown",
   "id": "22f01000-4385-461b-941a-73a84566516e",
   "metadata": {},
   "source": [
    "# Types of k-Nearest Neighbors (KNN)\n",
    "## 1. **Uniform k-Nearest Neighbors (KNN)**\n",
    "- Definition: In Uniform KNN, each of the K nearest neighbors contributes equally to the final prediction or classification, regardless of their distance from the query point.\n",
    "\n",
    "- Classification: All K neighbors vote equally for the class of the query point.\n",
    "- Regression: The average of the K neighbors values is used without weighting.\n",
    "\n",
    "## 2. **Weighted k-Nearest Neighbors (KNN)**\n",
    "- Definition: In Weighted KNN, each of the K nearest neighbors contributes to the prediction based on their distance from the query point. Closer neighbors have more influence than those further away.\n",
    "- Classification: Neighbors that are closer to the query point have more weight in determining the most common class.\n",
    "- Regression: The prediction is a weighted average of the K neighbors’ values, with closer neighbors having higher weights.\n",
    "\n",
    "**Note**:\n",
    "- Uniform KNN treats all neighbors equally, while Weighted KNN gives more importance to closer neighbors."
   ]
  },
  {
   "cell_type": "markdown",
   "id": "b521a2d7-6f00-4f36-bc3e-fc4962b864c6",
   "metadata": {},
   "source": [
    "# Importing necessary libraries\r\n",
    "```python\r\n",
    "from sklearn.neighbors import KNeighborsClassifier, KNeighborsRegressor\r\n",
    "\r\n",
    "# Create an instance of KNeighborsClassifier\r\n",
    "knn_classifier = KNeighborsClassifier(\r\n",
    "    n_neighbors=5,            # Number of neighbors to use\r\n",
    "    weights='uniform',        # Weight function used in prediction ('uniform' or 'distance')\r\n",
    "    algorithm='auto',         # Algorithm used to compute the nearest neighbors ('auto', 'ball_tree', 'kd_tree', 'brute')\r\n",
    "    p=2,                      # Power parameter for the Minkowski distance (default is 2, which is Euclidean distance)\r\n",
    "    leaf_size=30              # Leaf size passed to the tree-based algorithms (default is 30)\r\n",
    ")\r\n",
    "\r\n",
    "# Create an instance of KNeighborsRegressor\r\n",
    "knn_regressor = KNeighborsRegressor(\r\n",
    "    n_neighbors=5,            # Number of neighbors to use (default is 5)\r\n",
    "    weights='uniform',        # Weight function used in prediction ('uniform' or 'distance')\r\n",
    "    algorithm='auto',         # Algorithm used to compute the nearest neighbors ('auto', 'ball_tree', 'kd_tree', 'brute')\r\n",
    "    p=1,                      # Power parameter for the Minkowski distance (default is 2, which is Euclidean distance)\r\n",
    "    leaf_size=30              # Leaf size passed to the tree-based algorithms (default is 30)\r\n",
    ")\r\n"
   ]
  },
  {
   "cell_type": "markdown",
   "id": "86fa577b-9048-4494-ba44-aba232681fb6",
   "metadata": {},
   "source": [
    "# Optimal K-Value using K-Fold Cross Validation\n",
    "- K-Fold Cross Validation is a technique used in machine learning to evaluate the performance of a model. Here’s how it works:\n",
    "\n",
    "- Split the Data: The dataset is divided into Kequal or nearly equal parts, known as “folds.”\n",
    "- Train and Test: The model is trained on K−1 folds and tested on the remaining 1 fold. This process is repeated K times, each time with a different fold as the test set and the remaining K−1 folds as the training set.\n",
    "- Average the Results: The performance metrics (e.g., accuracy, precision) from each of the K iterations are averaged to give a final evaluation of the model.\n",
    "\n",
    "## Why It Is Used ?\n",
    "- Improved Model Evaluation: It provides a more reliable estimate of the model’s performance than a single train-test split, as it evaluates the model on multiple subsets of the data.\n",
    "- Better Utilization of Data: Each data point gets to be in the test set exactly once and gets to be in the training set K−1 times, which helps in making better use of limited data.\n",
    "- Reduced Variance: It helps in reducing the variability of the performance metric because it averages results over multiple folds, making the evaluation less sensitive to the random partition of the dataset."
   ]
  },
  {
   "cell_type": "markdown",
   "id": "0e979250-48c2-4819-996a-1fdf82de4e4e",
   "metadata": {},
   "source": [
    "## Syntax for KFold Cross-Validation\n",
    "```python\n",
    "from sklearn.model_selection import KFold,cross_validate\n",
    "kf = KFold(n_splits=5, shuffle=False, random_state=None #Default Parameters\n",
    "\n",
    "#n_splits : (int, default=5)\n",
    "#shuffle : (bool, default=False)\n",
    "#random_state :(int, RandomState instance, or None, default=None)"
   ]
  },
  {
   "cell_type": "code",
   "execution_count": 1,
   "id": "a3b98b48-5fb4-4040-9614-8f89759fe552",
   "metadata": {},
   "outputs": [],
   "source": [
    "from sklearn.datasets import load_iris"
   ]
  },
  {
   "cell_type": "code",
   "execution_count": 2,
   "id": "2b801b9f-f9e3-4594-bf6c-f641e3d0f5f8",
   "metadata": {},
   "outputs": [],
   "source": [
    "X,y=load_iris(return_X_y=True,as_frame=True)"
   ]
  },
  {
   "cell_type": "code",
   "execution_count": 5,
   "id": "b2c15227-14ff-4cde-abc1-b0d826d5c1e8",
   "metadata": {},
   "outputs": [
    {
     "name": "stdout",
     "output_type": "stream",
     "text": [
      "The Average Accuracy :  0.9720833333333334\n",
      "**********************************************************************\n",
      "The Optimal K-values are :  [13, 14]\n"
     ]
    }
   ],
   "source": [
    "import numpy as np\n",
    "import pandas as pd\n",
    "from sklearn.model_selection import KFold, cross_validate\n",
    "from sklearn.neighbors import KNeighborsClassifier\n",
    "\n",
    "# Initialize list to store accuracy scores\n",
    "Accuracy = []\n",
    "\n",
    "# Loop through a range of K values\n",
    "for i in range(3, 19):\n",
    "    # Initialize the KNN classifier with the current K value\n",
    "    knn = KNeighborsClassifier(n_neighbors=i)\n",
    "    \n",
    "    # Initialize K-Fold cross-validation with 5 splits, shuffling, and a random state\n",
    "    kf = KFold(n_splits=5, shuffle=True, random_state=42)  # Changed random_state to int for reproducibility\n",
    "    \n",
    "    # Perform cross-validation and store accuracy scores\n",
    "    score = cross_validate(estimator=knn, X=X, y=y, cv=kf, scoring=\"accuracy\")\n",
    "    Accuracy.append(score[\"test_score\"].mean())  # Append mean accuracy score for each K value\n",
    "\n",
    "# Create a DataFrame to store K-values and their corresponding accuracy scores\n",
    "df_res = pd.DataFrame({\"K-value\": range(3, 19), \"Accuracy\": Accuracy})\n",
    "\n",
    "# Find the K-value(s) with the highest accuracy\n",
    "k_df = df_res[df_res[\"Accuracy\"] == df_res[\"Accuracy\"].max()][\"K-value\"]\n",
    "\n",
    "# Print average accuracy across all K-values\n",
    "print(\"The Average Accuracy : \", np.mean(df_res[\"Accuracy\"]))\n",
    "\n",
    "# Print a separator line\n",
    "print(\"*\" * 70)\n",
    "\n",
    "# Print the optimal K-value(s)\n",
    "print(\"The Optimal K-values are : \", [i for i in k_df.values])"
   ]
  },
  {
   "cell_type": "code",
   "execution_count": 6,
   "id": "b1cf787b-2236-47cd-bc5e-be8ab03b1857",
   "metadata": {},
   "outputs": [
    {
     "data": {
      "text/plain": [
       "[0.9666666666666668,\n",
       " 0.9733333333333334,\n",
       " 0.9733333333333334,\n",
       " 0.9733333333333334,\n",
       " 0.9733333333333334,\n",
       " 0.9733333333333334,\n",
       " 0.9666666666666668,\n",
       " 0.9733333333333334,\n",
       " 0.9733333333333334,\n",
       " 0.9733333333333334,\n",
       " 0.9800000000000001,\n",
       " 0.9800000000000001,\n",
       " 0.9733333333333334,\n",
       " 0.9666666666666666,\n",
       " 0.9666666666666668,\n",
       " 0.9666666666666666]"
      ]
     },
     "execution_count": 6,
     "metadata": {},
     "output_type": "execute_result"
    }
   ],
   "source": [
    "Accuracy"
   ]
  },
  {
   "cell_type": "code",
   "execution_count": 7,
   "id": "63bf346a-a811-406f-ace9-9c1e8617792d",
   "metadata": {},
   "outputs": [
    {
     "data": {
      "text/html": [
       "<div>\n",
       "<style scoped>\n",
       "    .dataframe tbody tr th:only-of-type {\n",
       "        vertical-align: middle;\n",
       "    }\n",
       "\n",
       "    .dataframe tbody tr th {\n",
       "        vertical-align: top;\n",
       "    }\n",
       "\n",
       "    .dataframe thead th {\n",
       "        text-align: right;\n",
       "    }\n",
       "</style>\n",
       "<table border=\"1\" class=\"dataframe\">\n",
       "  <thead>\n",
       "    <tr style=\"text-align: right;\">\n",
       "      <th></th>\n",
       "      <th>K-value</th>\n",
       "      <th>Accuracy</th>\n",
       "    </tr>\n",
       "  </thead>\n",
       "  <tbody>\n",
       "    <tr>\n",
       "      <th>0</th>\n",
       "      <td>3</td>\n",
       "      <td>0.966667</td>\n",
       "    </tr>\n",
       "    <tr>\n",
       "      <th>1</th>\n",
       "      <td>4</td>\n",
       "      <td>0.973333</td>\n",
       "    </tr>\n",
       "    <tr>\n",
       "      <th>2</th>\n",
       "      <td>5</td>\n",
       "      <td>0.973333</td>\n",
       "    </tr>\n",
       "    <tr>\n",
       "      <th>3</th>\n",
       "      <td>6</td>\n",
       "      <td>0.973333</td>\n",
       "    </tr>\n",
       "    <tr>\n",
       "      <th>4</th>\n",
       "      <td>7</td>\n",
       "      <td>0.973333</td>\n",
       "    </tr>\n",
       "    <tr>\n",
       "      <th>5</th>\n",
       "      <td>8</td>\n",
       "      <td>0.973333</td>\n",
       "    </tr>\n",
       "    <tr>\n",
       "      <th>6</th>\n",
       "      <td>9</td>\n",
       "      <td>0.966667</td>\n",
       "    </tr>\n",
       "    <tr>\n",
       "      <th>7</th>\n",
       "      <td>10</td>\n",
       "      <td>0.973333</td>\n",
       "    </tr>\n",
       "    <tr>\n",
       "      <th>8</th>\n",
       "      <td>11</td>\n",
       "      <td>0.973333</td>\n",
       "    </tr>\n",
       "    <tr>\n",
       "      <th>9</th>\n",
       "      <td>12</td>\n",
       "      <td>0.973333</td>\n",
       "    </tr>\n",
       "    <tr>\n",
       "      <th>10</th>\n",
       "      <td>13</td>\n",
       "      <td>0.980000</td>\n",
       "    </tr>\n",
       "    <tr>\n",
       "      <th>11</th>\n",
       "      <td>14</td>\n",
       "      <td>0.980000</td>\n",
       "    </tr>\n",
       "    <tr>\n",
       "      <th>12</th>\n",
       "      <td>15</td>\n",
       "      <td>0.973333</td>\n",
       "    </tr>\n",
       "    <tr>\n",
       "      <th>13</th>\n",
       "      <td>16</td>\n",
       "      <td>0.966667</td>\n",
       "    </tr>\n",
       "    <tr>\n",
       "      <th>14</th>\n",
       "      <td>17</td>\n",
       "      <td>0.966667</td>\n",
       "    </tr>\n",
       "    <tr>\n",
       "      <th>15</th>\n",
       "      <td>18</td>\n",
       "      <td>0.966667</td>\n",
       "    </tr>\n",
       "  </tbody>\n",
       "</table>\n",
       "</div>"
      ],
      "text/plain": [
       "    K-value  Accuracy\n",
       "0         3  0.966667\n",
       "1         4  0.973333\n",
       "2         5  0.973333\n",
       "3         6  0.973333\n",
       "4         7  0.973333\n",
       "5         8  0.973333\n",
       "6         9  0.966667\n",
       "7        10  0.973333\n",
       "8        11  0.973333\n",
       "9        12  0.973333\n",
       "10       13  0.980000\n",
       "11       14  0.980000\n",
       "12       15  0.973333\n",
       "13       16  0.966667\n",
       "14       17  0.966667\n",
       "15       18  0.966667"
      ]
     },
     "execution_count": 7,
     "metadata": {},
     "output_type": "execute_result"
    }
   ],
   "source": [
    "df_res"
   ]
  },
  {
   "cell_type": "markdown",
   "id": "8c6925ec-4214-4f60-ac80-0788ce69c792",
   "metadata": {},
   "source": [
    "# Important Interview Concepts in KNN(K-nearest neighbors)"
   ]
  },
  {
   "cell_type": "markdown",
   "id": "431a4856-a854-4dc2-a8ef-3e54baab1964",
   "metadata": {},
   "source": [
    "<style>\r\n",
    "    .blue-background {\r\n",
    "        background-color: #cce7ff;\r\n",
    "        padding: 15px;\r\n",
    "        font-size: 20px;\r\n",
    "        border-radius: 10px;\r\n",
    "    }\r\n",
    "</style>\r\n",
    "\r\n",
    "<div class=\"blue-background\">\r\n",
    "    \r\n",
    "1. **What is the KNN algorithm, and how does it work?**\r\n",
    "\r\n",
    "2. **What are the key steps involved in the KNN algorithm?**\r\n",
    "\r\n",
    "3. **How do you choose the optimal value of K in KNN?**\r\n",
    "\r\n",
    "4. **What are the commonly used distance metrics in KNN?**\r\n",
    "\r\n",
    "5. **What is the impact of feature scaling on KNN, and why is it important?**\r\n",
    "\r\n",
    "6. **How does KNN handle classification vs regression problems?**\r\n",
    "\r\n",
    "7. **What are the main advantages and disadvantages of KNN?**\r\n",
    "\r\n",
    "8. **What is the computational complexity of the KNN algorithm?**\r\n",
    "\r\n",
    "9. **What are some techniques to improve the efficiency of KNN?**\r\n",
    "\r\n",
    "10. **How does KNN perform in high-dimensional spaces?**\r\n",
    "\r\n",
    "11. **Can KNN be used for large datasets? Why or why not?**\r\n",
    "\r\n",
    "12. **How can KNN be used for anomaly detection?**\r\n",
    "\r\n",
    "13. **What is the difference between weighted KNN and uniform KNN?**\r\n",
    "\r\n",
    "14. **What are some strategies to handle ties in KNN classification?**\r\n",
    "\r\n",
    "15. **How do you evaluate the performance of a KNN model?**\r\n",
    "\r\n",
    "16. **How does noise in the dataset affect KNN performance?**\r\n",
    "\r\n",
    "17. **When would you not use KNN?**\r\n",
    "\r\n",
    "18. **Can KNN be used for the imputation of missing values?**\r\n",
    "\r\n",
    "19. **How do you implement KNN in Python?**\r\n",
    "\r\n",
    "20. **What are some common applications of KNN in real-world scenarios?**\r\n",
    "\r\n",
    "21. **How does KNN handle categorical data?**\r\n",
    "\r\n",
    "22. **What are the limitations of KNN in terms of interpretability?**\r\n",
    "\r\n",
    "23. **How does the choice of distance metric affect KNN performance?**\r\n",
    "\r\n",
    "</div>\r\n"
   ]
  },
  {
   "cell_type": "markdown",
   "id": "dbc5edb5-4139-48b5-bdec-5d5910452908",
   "metadata": {},
   "source": [
    "## 1.What is the KNN algorithm, and how does it work?\n",
    "- The K-Nearest Neighbors (KNN) algorithm is a simple, supervised machine learning algorithm used for both classification and regression problems.\n",
    "-  For classification, it assigns the most common class among the nearest neighbors. For regression, it predicts the average value of the nearest neighbors. KNN is based on the principle that similar data points are likely to have similar outcomes. It does not require explicit training but instead relies on distance metrics to make predictions."
   ]
  },
  {
   "cell_type": "markdown",
   "id": "317954a1-934b-46a4-baaa-8a14b01f57a9",
   "metadata": {},
   "source": [
    "## 2.What are the key steps involved in the KNN algorithm?\n",
    "There are four steps involved to implement KNN.\n",
    "\n",
    "● Step 1: Define the K-value\n",
    "\n",
    "Where K = Number of neighbors\n",
    "\n",
    "● Step 2 : Find all the distances from test point or Query point to the training data.\n",
    "\n",
    "● Step 3 : Sort all the distances in ascending order.\n",
    "\n",
    "● Step 4 : Based on K value\n",
    "\n",
    "If the problem is Classification Apply the majority voting ( Mode).\n",
    "\n",
    "If the Problem is Regression Apply the mean on the data points."
   ]
  },
  {
   "cell_type": "markdown",
   "id": "21b7e423-fcd7-4b0b-9829-b608155ac843",
   "metadata": {},
   "source": [
    "## 3.How do you choose the optimal value of K in KNN?\n",
    "- **Cross-Validation**: Use cross-validation to evaluate the model performance with different K values. This helps in determining which K results in the best accuracy.\n",
    "- **Bias-Variance Tradeoff**:\n",
    "- Small K: Leads to low bias but high variance (more prone to overfitting).\n",
    "- Large K: Leads to high bias but low variance (more generalized, but can underfit the data)."
   ]
  },
  {
   "cell_type": "code",
   "execution_count": 9,
   "id": "4f866a87-8cd9-4259-a942-b0e0fbf0aff3",
   "metadata": {},
   "outputs": [
    {
     "data": {
      "image/png": "[encoded data removed]",
      "text/plain": [
       "<Figure size 640x480 with 1 Axes>"
      ]
     },
     "metadata": {},
     "output_type": "display_data"
    },
    {
     "data": {
      "image/png": "[encoded data removed]",
      "text/plain": [
       "<Figure size 640x480 with 1 Axes>"
      ]
     },
     "metadata": {},
     "output_type": "display_data"
    }
   ],
   "source": [
    "import numpy as np\n",
    "import matplotlib.pyplot as plt\n",
    "from sklearn.datasets import make_moons\n",
    "from sklearn.neighbors import KNeighborsClassifier\n",
    "from sklearn.model_selection import train_test_split\n",
    "\n",
    "# Generate a synthetic dataset\n",
    "X, y = make_moons(n_samples=300, noise=0.25, random_state=42)\n",
    "X_train, X_test, y_train, y_test = train_test_split(X, y, test_size=0.3, random_state=42)\n",
    "\n",
    "# Function to plot decision boundaries\n",
    "def plot_knn_decision_boundary(K, X_train, y_train):\n",
    "    knn = KNeighborsClassifier(n_neighbors=K)\n",
    "    knn.fit(X_train, y_train)\n",
    "    \n",
    "    # Plotting decision boundaries\n",
    "    x_min, x_max = X_train[:, 0].min() - 1, X_train[:, 0].max() + 1\n",
    "    y_min, y_max = X_train[:, 1].min() - 1, X_train[:, 1].max() + 1\n",
    "    xx, yy = np.meshgrid(np.arange(x_min, x_max, 0.1),\n",
    "                         np.arange(y_min, y_max, 0.1))\n",
    "    \n",
    "    Z = knn.predict(np.c_[xx.ravel(), yy.ravel()])\n",
    "    Z = Z.reshape(xx.shape)\n",
    "    \n",
    "    plt.contourf(xx, yy, Z, alpha=0.3)\n",
    "    plt.scatter(X_train[:, 0], X_train[:, 1], c=y_train, edgecolor='k')\n",
    "    plt.title(f\"KNN with K={K}\")\n",
    "    plt.xlabel(\"Feature 1\")\n",
    "    plt.ylabel(\"Feature 2\")\n",
    "    plt.show()\n",
    "\n",
    "# Plot decision boundaries for K=1 (small K)\n",
    "plot_knn_decision_boundary(1, X_train, y_train)\n",
    "\n",
    "# Plot decision boundaries for K=15 (large K)\n",
    "plot_knn_decision_boundary(15, X_train, y_train)\n"
   ]
  },
  {
   "cell_type": "markdown",
   "id": "11c7140d-7efd-46b0-a2ea-4c0ff5d0bffc",
   "metadata": {},
   "source": [
    "## 4. What are the commonly used distance metrics in KNN?\r\n",
    "\r\n",
    "### Types of Distances\r\n",
    "In the K-Nearest Neighbors (KNN) algorithm, several distance metrics can be used to measure the similarity between data points. Here are some common types of distances:\r\n",
    "\r\n",
    "1. **Euclidean Distance**:\r\n",
    "   The most common distance metric, measuring the straight-line distance between two points in Euclidean space.\r\n",
    "\r\n",
    "   ## Formula:\r\n",
    "   $$ \r\n",
    "   d(x, x_i) = \\sqrt{\\sum_{j=1}^{n} (x_j - x_{i,j})^2}\r\n",
    "   $$\r\n",
    "\r\n",
    "2. **Manhattan Distance (L1 Norm)**:\r\n",
    "   Measures the distance between two points by summing the absolute differences of their coordinates. Also known as \"city block\" distance.\r\n",
    "\r\n",
    "   ## Formula:\r\n",
    "   $$ \r\n",
    "   d(x, x_i) = \\sum_{j=1}^{n} |x_j - x_{i,j}|\r\n",
    "   $$\r\n",
    "\r\n",
    "3. **Minkowski Distance**:\r\n",
    "   A generalization of both Euclidean and Manhattan distances, where \\(p\\) is a parameter that defines the distance type. For \\(p=2\\), it becomes Euclidean distance, and for \\(p=1\\), it becomes Manhattan distance.\r\n",
    "\r\n",
    "   ## Formula:\r\n",
    "   $$ \r\n",
    "   d(x, x_i) = \\left( \\sum_{j=1}^{n} |x_j - x_{i,j}|^p \\right)^{1/p}\r\n",
    "   $$\r\n",
    "\r\n",
    "4. **Cosine Similarity**:\r\n",
    "   Measures the cosine of the angle between two vectors, focusing on the orientation rather than the magnitude. Often used in text classification and clustering.\r\n",
    "\r\n",
    "   ## Formula:\r\n",
    "   $$ \r\n",
    "   \\text{Cosine similarity}(x, x_i) = \\frac{x \\cdot x_i}{\\|x\\| \\|x_i\\|}\r\n",
    "   $$\r\n",
    "\r\n",
    "   **When to Use**: Use cosine similarity when you care about the direction rather than the magnitude of the vectors, such as in text similarity where word frequencies matter but document lengths may vary significantly.\r\n",
    "\r\n",
    "5. **Hamming Distance**:\r\n",
    "   Used for categorical variables, it counts the number of positions at which the corresponding elements are different.\r\n"
   ]
  },
  {
   "cell_type": "markdown",
   "id": "11ffbbe4-7b00-486d-bb7f-999c1210e4f0",
   "metadata": {},
   "source": [
    "## 5.What is the impact of feature scaling on KNN, and why is it important?\n",
    "- In the K-Nearest Neighbors (KNN) algorithm, the performance heavily depends on the distance between data points. Since KNN calculates the distance between points (using metrics like Euclidean, Manhattan, or Minkowski), the scale of the features can significantly affect the model's predictions.\n",
    "- **Impact on Distance Calculation**: The KNN algorithm works by calculating the distance between points. Features that are on larger scales will influence the distance metric more than features on smaller scales, leading to incorrect proximity measures.\n",
    "\n",
    "- **Improvement in Accuracy**: Feature scaling ensures that each feature contributes equally to the distance metric, which helps in improving the model's accuracy. Without scaling, KNN might incorrectly prioritize one feature over others, leading to suboptimal predictions.\n",
    "\n",
    "```python\n",
    "Let's consider a simple example where we have two features: Height (in cm) and Weight (in kg). Without scaling, the Weight feature (which could range from 50 to 100 kg) might dominate the distance calculation because its range is larger compared to Height (which could range from 140 cm to 200 cm).\n",
    "\n",
    "Before Scaling:\n",
    "Height: [150, 175, 160]\n",
    "Weight: [50, 80, 60]\n",
    "If we calculate the Euclidean distance between two points, the difference in weight will have a larger effect on the distance metric than the difference in height.\n",
    "\n",
    "After Scaling (Standardization or Normalization):\n",
    "Height: [0.0, 1.0, 0.5] (Standardized to have a mean of 0 and a standard deviation of 1)\n",
    "Weight: [0.0, 1.0, 0.25] (Standardized to have a mean of 0 and a standard deviation of 1)\n",
    "Now, both features will contribute equally to the distance metric, leading to more accurate distance calculations and, consequently, better predictions."
   ]
  },
  {
   "cell_type": "markdown",
   "id": "ff5704bd-720a-4ef9-850b-3bd39b5b2924",
   "metadata": {},
   "source": [
    "## 6.How does KNN handle classification vs regression problems?"
   ]
  },
  {
   "cell_type": "markdown",
   "id": "bad1cc5b-89b9-45c3-a5c7-16caa50c9ba5",
   "metadata": {},
   "source": [
    "## KNN for Regression\n",
    "\n",
    "In regression, KNN predicts a continuous value for a new data point by averaging the values of its K nearest neighbors.\n",
    "\n",
    "### The steps are:\n",
    "1. Compute the distance between the new data point and all other points in the training set.\n",
    "2. Identify the K nearest neighbors (based on the smallest distances).\n",
    "3. Calculate the average (or weighted average) of the target values of these K neighbors.\n",
    "4. The predicted value is the average of the neighbors' values.\n",
    "\n",
    "### Example:\n",
    "If K = 3, and the target values of the 3 nearest neighbors are 5, 7, and 9, the predicted value for the new point is:\n",
    "$ \\huge\n",
    "\\frac{5 + 7 + 9}{3} = 7 $\n",
    "\n",
    "\n",
    "## KNN for Classification\r\n",
    "\r\n",
    "In classification, KNN assigns a class label to a new data point based on the class labels of its K nearest neighbors.\r\n",
    "\r\n",
    "### The algorithm works as follows:\r\n",
    "1. Compute the distance between the new data point and all other data points in the training set.\r\n",
    "2. Identify the K nearest neighbors (based on the smallest distances).\r\n",
    "3. Take a majority vote among these neighbors to determine the class of the new data point.\r\n",
    "4. The class that appears most frequently among the K neighbors is assigned as the predicted class for the data point.\r\n",
    "\r\n",
    "### Example:\r\n",
    "If K = 5, and among the 5 nearest neighbors, 3 belong to Class A and 2 belong to Class B, the new point is classified as **Class A**.\r\n",
    "\n"
   ]
  },
  {
   "cell_type": "markdown",
   "id": "6bf58e26-c032-4891-a30b-560fbd2bf9bc",
   "metadata": {},
   "source": [
    "## 7.What are the main advantages and disadvantages of KNN?\n",
    "\n",
    "**Advantages**\n",
    "- It is Easy to understand and implement.\n",
    "- No training phase.\n",
    "\n",
    "**Disadvantages**\n",
    "- It is Lazy Learner(Very slow) i.e, it is slow to predict the outcome(i.e, it should go to every datapoint and calculate distance between them).\n",
    "- Model Complexity O(n*d)(Computationally expensive).\n",
    "- Choosing Optimal K value.\n",
    "- Sensitive to larger values(higher values dominate the smaller value)"
   ]
  },
  {
   "cell_type": "markdown",
   "id": "87ec35ee-4a74-4f3f-9f17-98be9769735d",
   "metadata": {},
   "source": [
    "## 8.What is the computational complexity of the KNN algorithm?\n",
    "- Model Complexity O(n*d)"
   ]
  },
  {
   "cell_type": "markdown",
   "id": "58947833-82fd-4a79-a57f-2f57f763c1e6",
   "metadata": {},
   "source": [
    "## 9.What are some techniques to improve the efficiency of KNN?\n",
    "\n",
    "- **Dimensionality Reduction**: Using techniques like Principal Component Analysis (PCA) or t-SNE to reduce the number of features can help speed up the computation by focusing on the most important features.\n",
    "- **KD-Trees and Ball Trees**: These are advanced data structures that help improve the efficiency of nearest neighbor searches. KD-trees split data into regions and enable faster searching.\n",
    "- **Approximate Nearest Neighbors**: Techniques like Locality Sensitive Hashing (LSH) can be used to approximate nearest neighbors, reducing the computational cost.\n",
    "- **Preprocessing**: Reducing noise and irrelevant features using feature selection or feature engineering can also make KNN faster and more efficient.\n"
   ]
  },
  {
   "cell_type": "markdown",
   "id": "830a4b5d-34df-4807-84f1-b8723599444a",
   "metadata": {},
   "source": [
    "## 10.How does KNN perform in high-dimensional spaces?\n",
    "\n",
    "```python\n",
    "KNN in High-Dimensional Spaces:\n",
    "\n",
    "1.Curse of Dimensionality:\n",
    "As dimensions increase, the distance between points becomes almost equal, making it difficult for KNN to distinguish neighbors.\n",
    "Example: In a dataset with 100 features (dimensions), the distance between any two data points is nearly the same, making it hard for KNN to find true nearest neighbors.\n",
    "                                                                                                                            \n",
    "2.Distance Metrics Lose Effectiveness:                                                                                                                  \n",
    "KNN relies on distance metrics (like Euclidean distance) to measure similarity. In high dimensions, the differences between points diminish.\n",
    "Example: If you have 100 features, the Euclidean distance between points might become so similar that KNN can’t accurately identify the closest neighbors.\n",
    "Increased Risk of Overfitting:\n",
    "\n",
    "3.In high-dimensional data, KNN can become too sensitive to the training data, overfitting and failing to generalize well to new data.\n",
    "Example: If you're using KNN to predict house prices based on many features (like square footage, number of rooms, year built, etc.), the model might overfit to noisy data and perform poorly on new, unseen examples.\n",
    "                                                                                                                            \n",
    "4.Higher Computational Complexity:\n",
    "The time it takes to compute distances increases with more dimensions. This makes KNN slow and inefficient in high-dimensional spaces.\n",
    "Example: For a dataset with 1000 points and 100 features, calculating the distance between every new point and all existing points can be very slow and resource-intensive.\n",
    "                                                                                                                            \n",
    "5.Feature Selection/Dimensionality Reduction Helps:\n",
    "Techniques like PCA (Principal Component Analysis) can reduce the number of features, improving KNN’s performance in high dimensions.\n",
    "Example: Reducing a dataset from 100 features to 10 using PCA can help KNN better identify meaningful neighbors and improve prediction accuracy."
   ]
  },
  {
   "cell_type": "markdown",
   "id": "3af6af0a-a3ab-4154-bcd9-8540cbd75bbb",
   "metadata": {},
   "source": [
    "## 11.Can KNN be used for large datasets? Why or why not?\n",
    "\n",
    "KNN can be used for large datasets, but it becomes inefficient as the dataset size grows. Here's why:\n",
    "- Computational Complexity: KNN has a time complexity of O(n) for each prediction (where n is the number of data points). This means for large datasets, the algorithm becomes slow because it has to compute the distance between the test point and all other points in the training set.\n",
    "- Memory Usage: KNN stores all the training data, which can lead to high memory consumption with large datasets.\n",
    "- **Example**:\n",
    "In a dataset with 10 million points and 50 features, every new prediction would require computing distances between the query point and all 10 million points, which is computationally expensive.\n",
    "                                                                                                                                    \n",
    "**Solutions to improve efficiency**:\n",
    "- Use approximate nearest neighbors algorithms like LSH (Locality Sensitive Hashing) or KD-Trees.\n",
    "- Dimensionality reduction can also help by reducing the number of features."
   ]
  },
  {
   "cell_type": "markdown",
   "id": "b64cb941-50e5-4f24-bc08-06831c0c1f08",
   "metadata": {},
   "source": [
    "## 12.How can KNN be used for anomaly detection?\n",
    "\n",
    "KNN can be used for anomaly detection by identifying points that are far away from their nearest neighbors. Anomalies or outliers are typically data points that don't have many neighbors close to them.\n",
    "## **Steps:**\n",
    "- Choose a value for K: Select the number of neighbors.\n",
    "- Calculate the distance to the K nearest neighbors for each data point.\n",
    "- Compare the distances: Data points with larger average distances to their neighbors are considered anomalies because they are far away from other points in the dataset."
   ]
  },
  {
   "cell_type": "markdown",
   "id": "5ebd1cf5-0da7-4292-b7ff-5de52a2483fa",
   "metadata": {},
   "source": [
    "## 13.What is the difference between weighted KNN and uniform KNN?\n",
    "## Types of k-Nearest Neighbors (KNN)\n",
    "## 1. **Uniform k-Nearest Neighbors (KNN)**\n",
    "- Definition: In Uniform KNN, each of the K nearest neighbors contributes equally to the final prediction or classification, regardless of their distance from the query point.\n",
    "\n",
    "- Classification: All K neighbors vote equally for the class of the query point.\n",
    "- Regression: The average of the K neighbors values is used without weighting.\n",
    "\n",
    "## 2. **Weighted k-Nearest Neighbors (KNN)**\n",
    "- Definition: In Weighted KNN, each of the K nearest neighbors contributes to the prediction based on their distance from the query point. Closer neighbors have more influence than those further away.\n",
    "- Classification: Neighbors that are closer to the query point have more weight in determining the most common class.\n",
    "- Regression: The prediction is a weighted average of the K neighbors’ values, with closer neighbors having higher weights.\n",
    "\n",
    "**Note**:\n",
    "- Uniform KNN treats all neighbors equally, while Weighted KNN gives more importance to closer neighbors."
   ]
  },
  {
   "cell_type": "markdown",
   "id": "a7e5e08e-3be5-43d5-8e5b-96557b3fae42",
   "metadata": {},
   "source": [
    "## 14. In KNN classification, ties occur when multiple classes have the same number of votes from the K nearest neighbors. Here are some strategies to handle ties:\n",
    "\n",
    "- **Use an Odd Number for K**\n",
    "Using an odd value for K helps to avoid ties in the first place. This ensures that there will always be a majority class, as an odd number of neighbors will not allow an equal split between two classes."
   ]
  },
  {
   "cell_type": "markdown",
   "id": "27c6073a-bc08-4006-8627-c39a314e5054",
   "metadata": {},
   "source": [
    "## 15. How do you evaluate the performance of a KNN model?\r\n",
    "\r\n",
    "### Evaluating the Performance of a KNN Model\r\n",
    "\r\n",
    "Evaluating the performance of a KNN model involves checking how well the model classifies or predicts new data. The following metrics are commonly used for evaluation:\r\n",
    "\r\n",
    "- **Accuracy**: The percentage of correct predictions out of the total predictions.\r\n",
    "\r\n",
    "  $$ \r\n",
    "  \\text{Accuracy} = \\frac{\\text{Number of Correct Predictions}}{\\text{Total Number of Predictions}} \r\n",
    "  $$\r\n",
    "\r\n",
    "- **Precision and Recall**: Useful for imbalanced datasets.\r\n",
    "  - **Precision**: The proportion of correctly predicted positive observations out of all predicted positives.\r\n",
    "  \r\n",
    "  $$ \r\n",
    "  \\text{Precision} = \\frac{\\text{True Positives}}{\\text{True Positives} + \\text{False Positives}} \r\n",
    "  $$\r\n",
    "\r\n",
    "  - **Recall**: The proportion of correctly predicted positive observations out of all actual positives.\r\n",
    "  \r\n",
    "  $$ \r\n",
    "  \\text{Recall} = \\frac{\\text{True Positives}}{\\text{True Positives} + \\text{False Negatives}} \r\n",
    "  $$\r\n",
    "\r\n",
    "- **Confusion Matrix**: A table that shows the number of true positives, false positives, true negatives, and false negatives.\r\n",
    "\r\n",
    "  $$ \r\n",
    "  \\begin{pmatrix} \r\n",
    "  \\text{True Positives} & \\text{False Positives} \\\\ \r\n",
    "  \\text{False Negatives} & \\text{True Negatives} \r\n",
    "  \\end{pmatrix} \r\n",
    "  $$\r\n",
    "\r\n",
    "- **Cross-validation**: This involves splitting the dataset into multiple parts (folds) and using different parts for training and testing to ensure that the model performs well on unseen data.\r\n",
    "well on unseen data.\r\n",
    "\n",
    "\n",
    "​\n",
    " \n"
   ]
  },
  {
   "cell_type": "markdown",
   "id": "cc287401-f1f5-4d9e-b21e-e6d15498b663",
   "metadata": {},
   "source": [
    "## 16. When would you not use KNN?\n",
    "\n",
    "KNN has some limitations that make it less ideal in certain scenarios:\n",
    "\n",
    "\n",
    "- **High-dimensional data**: In high-dimensional spaces, the distance between points becomes less informative due to the \"curse of dimensionality.\" This makes KNN inefficient.\n",
    "\n",
    "- **Large datasets**: KNN can be slow on large datasets because it requires calculating the distance between the query point and all points in the training set.\n",
    "\n",
    "- **Imbalanced datasets**: If one class has many more examples than others, KNN may be biased towards the majority class, leading to poor classification performance on the minority class.\n",
    "\n",
    "- **Noisy data**: KNN is sensitive to noisy data and outliers, which can lead to poor model performance.\n",
    "\n",
    "## Example:\n",
    "- **High-dimensional data**: If you're trying to classify images with thousands of features (pixels), KNN would struggle because of the curse of dimensionality. In this case, you might prefer other algorithms like SVM or neural networks.\n",
    "\n",
    "- **Large datasets**: If you are classifying millions of rows of data, the time required for distance computation in KNN would be too slow, making algorithms like decision trees or random forests a better choice."
   ]
  },
  {
   "cell_type": "markdown",
   "id": "698e2444-575b-474a-b3a0-38231d05d554",
   "metadata": {},
   "source": [
    "## 17.How does noise in the dataset affect KNN performance?\n",
    "\n",
    "Noise refers to irrelevant or erroneous data points in the dataset that can mislead the KNN model.\n",
    "\n",
    "- **Effect**: KNN relies heavily on the nearest neighbors for classification or regression. Noise can distort the distance calculations and lead to incorrect predictions, especially when the noisy data point is close to the new data point.\n",
    "\n",
    "## Example: \n",
    "- If you're using KNN to predict house prices based on features like area and location, a few outliers (e.g., houses with extremely high prices or small areas) can mislead the model, causing it to predict the wrong price.\n",
    "\n",
    "- **Solution**: Using distance weighting, removing outliers, or applying feature scaling can help reduce the effect of noise."
   ]
  },
  {
   "cell_type": "markdown",
   "id": "e3306482-5f21-4de9-ad58-fbbc0e296849",
   "metadata": {},
   "source": [
    "## 18. Common Applications of KNN in Real-World Scenarios\n",
    "```python\n",
    "\n",
    "KNN is widely used in various real-world applications due to its simplicity and effectiveness:\n",
    "\n",
    "1. Recommendation Systems: KNN can be used to recommend products based on the preferences of similar users.\n",
    "Example: In an e-commerce platform, if a user has bought products similar to those bought by other users, the system can recommend products liked by those users\n",
    "    .\n",
    "2.Image Classification: KNN is used to classify images based on the similarity of pixel values.\n",
    "Example: In facial recognition, a new image is classified by comparing it to a database of labeled images.\n",
    "\n",
    "3.Anomaly Detection: KNN is used to detect outliers in datasets.\n",
    "Example: In fraud detection, transactions that deviate significantly from the majority of similar transactions are flagged as anomalous.\n",
    "\n",
    "4.Medical Diagnosis: KNN can predict diseases based on patient data by comparing it with other known cases.\n",
    "Example: Given a patient's symptoms and medical history, KNN can predict if they have a certain disease by comparing it to similar historical cases."
   ]
  },
  {
   "cell_type": "markdown",
   "id": "b57b3013-2030-4d7e-99ff-e20b04688828",
   "metadata": {},
   "source": [
    "### 20. Example Problem: KNN with Mixed Data (Categorical + Numerical)\r\n",
    "\r\n",
    "#### Dataset\r\n",
    "\r\n",
    "Consider a dataset with both **categorical** and **numerical** features:\r\n",
    "\r\n",
    "| **ID** | **Age** | **Income** | **Color** | **Shape** | **Class** |\r\n",
    "|--------|---------|------------|-----------|-----------|-----------|\r\n",
    "| 1      | 25      | 50,000     | red       | circle    | A         |\r\n",
    "| 2      | 30      | 60,000     | blue      | square    | B         |\r\n",
    "| 3      | 22      | 40,000     | green     | circle    | A         |\r\n",
    "| 4      | 35      | 55,000     | red       | square    | B         |\r\n",
    "\r\n",
    "#### Test Point\r\n",
    "\r\n",
    "Let the **test point** be `['Age = 28', 'Income = 58,000', 'Color = red', 'Shape = circle']`.\r\n",
    "\r\n",
    "We will calculate the **KNN** distance using both **numerical** and **categorical** features.\r\n",
    "\r\n",
    "---\r\n",
    "\r\n",
    "### Step 1: Separate the Features\r\n",
    "- **Numerical features**: Age, Income\r\n",
    "- **Categorical features**: Color, Shape\r\n",
    "\r\n",
    "---\r\n",
    "\r\n",
    "### Step 2: Calculate the Distance for Numerical Features (Euclidean)\r\n",
    "\r\n",
    "The **Euclidean distance** formula is:\r\n",
    "\r\n",
    "$$\r\n",
    "d_{\\text{num}} = \\sqrt{(X_1 - X_2)^2 + (Y_1 - Y_2)^2}\r\n",
    "$$\r\n",
    "\r\n",
    "Where:\r\n",
    "- \\( X_1, X_2 \\) are the values for **Age**.\r\n",
    "- \\( Y_1, Y_2 \\) are the values for **Income**.\r\n",
    "\r\n",
    "- **Test Point vs Point 1**:\r\n",
    "  $$\r\n",
    "  d_{\\text{num,1}} = \\sqrt{(28 - 25)^2 + (58,000 - 50,000)^2} = \\sqrt{3^2 + 8,000^2} = \\sqrt{9 + 64,000,000} \\approx 8,000.001\r\n",
    "  $$\r\n",
    "\r\n",
    "- **Test Point vs Point 2**:\r\n",
    "  $$\r\n",
    "  d_{\\text{num,2}} = \\sqrt{(28 - 30)^2 + (58,000 - 60,000)^2} = \\sqrt{2^2 + 2,000^2} = \\sqrt{4 + 4,000,000} \\approx 2,000.001\r\n",
    "  $$\r\n",
    "\r\n",
    "- **Test Point vs Point 3**:\r\n",
    "  $$\r\n",
    "  d_{\\text{num,3}} = \\sqrt{(28 - 22)^2 + (58,000 - 40,000)^2} = \\sqrt{6^2 + 18,000^2} = \\sqrt{36 + 324,000,000} \\approx 18,000.001\r\n",
    "  $$\r\n",
    "\r\n",
    "- **Test Point vs Point 4**:\r\n",
    "  $$\r\n",
    "  d_{\\text{num,4}} = \\sqrt{(28 - 35)^2 + (58,000 - 55,000)^2} = \\sqrt{7^2 + 3,000^2} = \\sqrt{49 + 9,000,000} \\approx 3,000.001\r\n",
    "  $$\r\n",
    "\r\n",
    "---\r\n",
    "\r\n",
    "### Step 3: Calculate the Distance for Categorical Features (Hamming)\r\n",
    "\r\n",
    "The **Hamming distance** for categorical features is calculated as the number of differing values.\r\n",
    "\r\n",
    "- **Test Point vs Point 1** (Color = red, Shape = circle):\r\n",
    "  - **Color**: same (red) → 0\r\n",
    "  - **Shape**: same (circle) → 0\r\n",
    "  - **Hamming Distance**: 0\r\n",
    "\r\n",
    "- **Test Point vs Point 2** (Color = blue, Shape = square):\r\n",
    "  - **Color**: different (blue vs red) → 1\r\n",
    "  - **Shape**: different (square vs circle) → 1\r\n",
    "  - **Hamming Distance**: 2\r\n",
    "\r\n",
    "- **Test Point vs Point 3** (Color = green, Shape = circle):\r\n",
    "  - **Color**: different (green vs red) → 1\r\n",
    "  - **Shape**: same (circle) → 0\r\n",
    "  - **Hamming Distance**: 1\r\n",
    "\r\n",
    "- **Test Point vs Point 4** (Color = red, Shape = square):\r\n",
    "  - **Color**: same (red) → 0\r\n",
    "  - **Shape**: different (square vs circle) → 1\r\n",
    "  - **Hamming Distance**: 1\r\n",
    "\r\n",
    "---\r\n",
    "\r\n",
    "### Step 4: Combine the Distances\r\n",
    "\r\n",
    "We combine the numerical and categorical distances using **equal weights**:\r\n",
    "\r\n",
    "$$\r\n",
    "d_{\\text{total}} = w_{\\text{num}} \\cdot d_{\\text{num}} + w_{\\text{cat}} \\cdot d_{\\text{cat}}\r\n",
    "$$\r\n",
    "\r\n",
    "Assuming \\( w_{\\text{num}} = 1 \\) and \\( w_{\\text{cat}} = 1 \\), the total distances are:\r\n",
    "\r\n",
    "- **Test Point vs Point 1**:\r\n",
    "  $$\r\n",
    "  d_{\\text{total,1}} = 1 \\cdot 8,000.001 + 1 \\cdot 0 = 8,000.001\r\n",
    "  $$\r\n",
    "\r\n",
    "- **Test Point vs Point 2**:\r\n",
    "  $$\r\n",
    "  d_{\\text{total,2}} = 1 \\cdot 2,000.001 + 1 \\cdot 2 = 2,002.001\r\n",
    "  $$\r\n",
    "\r\n",
    "- **Test Point vs Point 3**:\r\n",
    "  $$\r\n",
    "  d_{\\text{total,3}} = 1 \\cdot 18,000.001 + 1 \\cdot 1 = 18,001.001\r\n",
    "  $$\r\n",
    "\r\n",
    "- **Test Point vs Point 4**:\r\n",
    "  $$\r\n",
    "  d_{\\text{total,4}} = 1 \\cdot 3,000.001 + 1 \\cdot 1 = 3,001.001\r\n",
    "  $$\r\n",
    "\r\n",
    "---\r\n",
    "\r\n",
    "### Step 5: Find Nearest Neighbors\r\n",
    "\r\n",
    "We select the **K = 2** nearest neighbors based on the **total distance**:\r\n",
    "\r\n",
    "- The nearest 2 points are:\r\n",
    "  - **Point 2** (Distance = 2,002.001, Class = B)\r\n",
    "  - **Point 4** (Distance = 3,001.001, Class = B)\r\n",
    "\r\n",
    "---\r\n",
    "\r\n",
    "### Step 6: Majority Voting\r\n",
    "\r\n",
    "Both nearest neighbors belong to **Class B**, so the **predicted class** for the test point is **Class B**.\r\n",
    "\r\n",
    "---\r\n",
    "\r\n",
    "### Final Prediction:\r\n",
    "\r\n",
    "- **Predicted Class**: B\r\n"
   ]
  },
  {
   "cell_type": "markdown",
   "id": "62e28121-cff6-4262-8d11-cac9ac250706",
   "metadata": {},
   "source": [
    "## 21. How to implement KNN in Python?\n",
    "# Importing necessary libraries\n",
    "```python\n",
    "from sklearn.neighbors import KNeighborsClassifier, KNeighborsRegressor\n",
    "\n",
    "# Create an instance of KNeighborsClassifier\n",
    "knn_classifier = KNeighborsClassifier(\n",
    "    n_neighbors=5,            # Number of neighbors to use\n",
    "    weights='uniform',        # Weight function used in prediction ('uniform' or 'distance')\n",
    "    algorithm='auto',         # Algorithm used to compute the nearest neighbors ('auto', 'ball_tree', 'kd_tree', 'brute')\n",
    "    p=2,                      # Power parameter for the Minkowski distance (default is 2, which is Euclidean distance)\n",
    "    leaf_size=30              # Leaf size passed to the tree-based algorithms (default is 30)\n",
    ")\n",
    "\n",
    "# Create an instance of KNeighborsRegressor\n",
    "knn_regressor = KNeighborsRegressor(\n",
    "    n_neighbors=5,            # Number of neighbors to use (default is 5)\n",
    "    weights='uniform',        # Weight function used in prediction ('uniform' or 'distance')\n",
    "    algorithm='auto',         # Algorithm used to compute the nearest neighbors ('auto', 'ball_tree', 'kd_tree', 'brute')\n",
    "    p=1,                      # Power parameter for the Minkowski distance (default is 2, which is Euclidean distance)\n",
    "    leaf_size=30              # Leaf size passed to the tree-based algorithms (default is 30)\n",
    ")\n"
   ]
  },
  {
   "cell_type": "markdown",
   "id": "22a7cd2e-cdc9-4691-a78c-c23ff16ec84f",
   "metadata": {},
   "source": [
    "## 22. How Does the Choice of Distance Metric Affect KNN Performance?\n",
    "\n",
    "```python\n",
    "\n",
    "The choice of distance metric significantly impacts the performance of KNN because it defines how similarity is measured between data points.\n",
    "\n",
    "1.Euclidean Distance: Measures the straight-line distance between two points. Works well for continuous numerical data.\n",
    "Example: In a dataset with height and weight, Euclidean distance can measure how similar two individuals are.\n",
    "    \n",
    "2.Manhattan Distance: Sums the absolute differences between the points. It works better when there are many dimensions (features).\n",
    "Example: In a dataset of location data with large differences between coordinates, Manhattan distance may give a better approximation of similarity.\n",
    "    \n",
    "3.Cosine Similarity: Measures the angle between two vectors. It is commonly used in text data and handles sparse data better.\n",
    "Example: In document classification, cosine similarity measures how similar two documents are based on word frequencies.\n",
    "\n",
    "Impact: If you use the wrong distance metric, KNN may not capture the correct similarity, leading to poor performance. For example, using Euclidean distance on categorical data might lead to incorrect classifications."
   ]
  },
  {
   "cell_type": "markdown",
   "id": "750784db-8529-46a9-8ebc-89c51b553be0",
   "metadata": {},
   "source": [
    "## 23.How would you deal with highly imbalanced dataset using KNN?\n",
    "Using techniques like\n",
    "- Oversampling\n",
    "- Undersampling\n",
    "- SMOTE\n",
    "\n",
    "- **Undersampling:** The core idea of undersampling is to decrease the number of instances in the majority class of the target variable. By reducing the size of the majority class, the dataset becomes more balanced, which can help improve model performance on imbalanced datasets. However, this approach might result in the loss of valuable information from the majority class.\n",
    "\n",
    "******************************************************************************************************************************\n",
    "\n",
    "- **Oversampling**: The core idea of oversampling is to increase the number of instances in the minority class of the target variable, typically by introducing duplicates of the existing minority class samples. This helps to balance the class distribution but can lead to overfitting, as the model might memorize the repeated instances instead of generalizing well.\n",
    "\n",
    "*******************************************************************************************************************************\n",
    "\n",
    "- **SMOTE (Synthetic Minority Over-sampling Technique)**: The core idea of SMOTE is to generate synthetic (artificial) data for the minority class. This is done by creating new examples through a formula where each new instance is derived as:\n",
    "- **New Instance = Old Instance + Random(0,1) * (Old Instance - Nearest Neighbor)**\n",
    "- This approach not only balances the classes but also introduces variability in the minority class by creating synthetic instances, thereby reducing the risk of overfitting compared to simple oversampling."
   ]
  },
  {
   "cell_type": "code",
   "execution_count": 28,
   "id": "91bd3326-423f-40fa-8d9a-0beab09d8d47",
   "metadata": {},
   "outputs": [
    {
     "data": {
      "text/plain": [
       "Counter({1: 95, 0: 5})"
      ]
     },
     "execution_count": 28,
     "metadata": {},
     "output_type": "execute_result"
    }
   ],
   "source": [
    "from sklearn.datasets import make_classification\n",
    "from collections import Counter\n",
    "from imblearn.under_sampling import RandomUnderSampler\n",
    "from imblearn.over_sampling import RandomOverSampler,SMOTE\n",
    "X,y=make_classification(n_samples=100,weights=[0.05,0.95],random_state=23)\n",
    "Counter(y)"
   ]
  },
  {
   "cell_type": "code",
   "execution_count": 29,
   "id": "310f3943-1c17-4c03-987e-6a5789643fed",
   "metadata": {},
   "outputs": [],
   "source": [
    "# The above dataset is imbalanced i.e, it has majority classes----1(94)\n",
    "# Minority classes-----0(6)"
   ]
  },
  {
   "cell_type": "markdown",
   "id": "ccccba8d-fdea-4bfe-b17b-51e11b25784d",
   "metadata": {},
   "source": [
    "# Undersampling"
   ]
  },
  {
   "cell_type": "code",
   "execution_count": 30,
   "id": "9274c92d-ffd5-4a14-907e-2bc7c9e27399",
   "metadata": {},
   "outputs": [
    {
     "data": {
      "text/plain": [
       "Counter({0: 5, 1: 5})"
      ]
     },
     "execution_count": 30,
     "metadata": {},
     "output_type": "execute_result"
    }
   ],
   "source": [
    "rus=RandomUnderSampler()\n",
    "X_us,y_us=rus.fit_resample(X,y)\n",
    "Counter(y_us)"
   ]
  },
  {
   "cell_type": "markdown",
   "id": "ef018089-0e53-4d6b-ba13-64918503b15c",
   "metadata": {},
   "source": [
    "# Oversampling"
   ]
  },
  {
   "cell_type": "code",
   "execution_count": 31,
   "id": "111cdb45-1de0-461e-8087-741d46579369",
   "metadata": {},
   "outputs": [
    {
     "data": {
      "text/plain": [
       "Counter({1: 95, 0: 95})"
      ]
     },
     "execution_count": 31,
     "metadata": {},
     "output_type": "execute_result"
    }
   ],
   "source": [
    "ros=RandomOverSampler()\n",
    "X_os,y_os=ros.fit_resample(X,y)\n",
    "Counter(y_os)"
   ]
  },
  {
   "cell_type": "markdown",
   "id": "6fbf4c27-917a-4649-8c5a-e66636f5915a",
   "metadata": {},
   "source": [
    "## SMOTE"
   ]
  },
  {
   "cell_type": "code",
   "execution_count": 32,
   "id": "69693108-8cff-40c2-909d-f2230cd07519",
   "metadata": {},
   "outputs": [
    {
     "name": "stdout",
     "output_type": "stream",
     "text": [
      "Before Applying SMOTE\n",
      "******************************\n",
      "The Number of Duplicates 0\n",
      "The Classes Counter({1: 95, 0: 5})\n",
      "******************************\n",
      "After Applying SMOTE\n",
      "The Number of Duplicates 0\n",
      "The Classes Counter({1: 95, 0: 95})\n"
     ]
    }
   ],
   "source": [
    "smote = SMOTE(k_neighbors=3,random_state=23)\n",
    "dup = pd.DataFrame(X,y).duplicated().sum()\n",
    "print(\"Before Applying SMOTE\")\n",
    "print(\"*\"*30)\n",
    "print(\"The Number of Duplicates\",dup)\n",
    "print(\"The Classes\",Counter(y))\n",
    "X_smote,y_smote = smote.fit_resample(X,y)\n",
    "print(\"*\"*30)\n",
    "print(\"After Applying SMOTE\")\n",
    "\n",
    "dup = pd.DataFrame(X_smote,y_smote).duplicated().sum()\n",
    "print(\"The Number of Duplicates\",dup)\n",
    "print(\"The Classes\",Counter(y_smote))"
   ]
  }
 ],
 "metadata": {
  "kernelspec": {
   "display_name": "Python 3 (ipykernel)",
   "language": "python",
   "name": "python3"
  },
  "language_info": {
   "codemirror_mode": {
    "name": "ipython",
    "version": 3
   },
   "file_extension": ".py",
   "mimetype": "text/x-python",
   "name": "python",
   "nbconvert_exporter": "python",
   "pygments_lexer": "ipython3",
   "version": "3.12.7"
  }
 },
 "nbformat": 4,
 "nbformat_minor": 5
}
